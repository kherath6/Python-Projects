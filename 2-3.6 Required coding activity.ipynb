{
 "cells": [
  {
   "cell_type": "code",
   "execution_count": 19,
   "metadata": {},
   "outputs": [],
   "source": [
    "def word_mixer(word_list): \n",
    "    \n",
    "    poem_input = input(\"Enter a poem: \")\n",
    "    \n",
    "    poem = poem_input.split()\n",
    "    \n",
    "    poem_len = int(len(poem_input))\n",
    "    \n",
    "    for words in poem:\n",
    "        if len(words) <= 3:\n",
    "            print(words.lower())\n",
    "        elif len(words) >= 7:\n",
    "            print(words.upper())\n",
    "            \n",
    "        else: \n",
    "            print(words)\n",
    "            \n",
    "        new_words = list()\n",
    "            \n",
    "    \n",
    "    while poem_len > 5:\n",
    "        new_words.append(poem.pop(-5))\n",
    "        new_words.append(poem.pop(-1))\n",
    "        new_words.append(poem.pop(0))\n",
    "        \n",
    "        return new_words\n",
    "    \n",
    "    x = word_mixer(word_list)\n",
    "    y=len(x)\n",
    "    \n",
    "    for wrd in range(0,y) :\n",
    "        print(x[wrd], end=' ')       \n",
    "    \n",
    "    "
   ]
  },
  {
   "cell_type": "code",
   "execution_count": 20,
   "metadata": {},
   "outputs": [
    {
     "name": "stdout",
     "output_type": "stream",
     "text": [
      "Enter a poem: Little fly, Thy summer’s play My thoughtless hand Has brushed away. Am not I A fly like thee? Or art not thou A man like me?\n",
      "Little\n",
      "fly,\n",
      "thy\n",
      "SUMMER’S\n",
      "play\n",
      "my\n",
      "THOUGHTLESS\n",
      "hand\n",
      "has\n",
      "BRUSHED\n",
      "away.\n",
      "am\n",
      "not\n",
      "i\n",
      "a\n",
      "fly\n",
      "like\n",
      "thee?\n",
      "or\n",
      "art\n",
      "not\n",
      "thou\n",
      "a\n",
      "man\n",
      "like\n",
      "me?\n"
     ]
    },
    {
     "data": {
      "text/plain": [
       "['thou', 'me?', 'Little']"
      ]
     },
     "execution_count": 20,
     "metadata": {},
     "output_type": "execute_result"
    }
   ],
   "source": [
    "word_mixer(1)"
   ]
  },
  {
   "cell_type": "code",
   "execution_count": null,
   "metadata": {},
   "outputs": [],
   "source": []
  }
 ],
 "metadata": {
  "kernelspec": {
   "display_name": "Python 3",
   "language": "python",
   "name": "python3"
  },
  "language_info": {
   "codemirror_mode": {
    "name": "ipython",
    "version": 3
   },
   "file_extension": ".py",
   "mimetype": "text/x-python",
   "name": "python",
   "nbconvert_exporter": "python",
   "pygments_lexer": "ipython3",
   "version": "3.6.4"
  }
 },
 "nbformat": 4,
 "nbformat_minor": 2
}
