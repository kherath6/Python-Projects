{
 "cells": [
  {
   "cell_type": "code",
   "execution_count": 3,
   "metadata": {},
   "outputs": [
    {
     "name": "stdout",
     "output_type": "stream",
     "text": [
      "(6, 'Hearts')\n"
     ]
    }
   ],
   "source": [
    "from random import choice\n",
    "\n",
    "def pick_card():\n",
    "    \n",
    "    card_type = ['Hearts','Clubs','Doamonds','Spades']\n",
    "    \n",
    "    card_number = ['Ace',2,3,4,5,6,7,8,9,10,'Jack','Queen','King']\n",
    "    \n",
    "    t = choice(card_type)\n",
    "    n = choice(card_number)\n",
    "    \n",
    "    return(n,t)\n",
    "\n",
    "print(pick_card())"
   ]
  },
  {
   "cell_type": "code",
   "execution_count": null,
   "metadata": {},
   "outputs": [],
   "source": []
  },
  {
   "cell_type": "code",
   "execution_count": null,
   "metadata": {},
   "outputs": [],
   "source": []
  }
 ],
 "metadata": {
  "kernelspec": {
   "display_name": "Python 3",
   "language": "python",
   "name": "python3"
  },
  "language_info": {
   "codemirror_mode": {
    "name": "ipython",
    "version": 3
   },
   "file_extension": ".py",
   "mimetype": "text/x-python",
   "name": "python",
   "nbconvert_exporter": "python",
   "pygments_lexer": "ipython3",
   "version": "3.6.4"
  }
 },
 "nbformat": 4,
 "nbformat_minor": 2
}
