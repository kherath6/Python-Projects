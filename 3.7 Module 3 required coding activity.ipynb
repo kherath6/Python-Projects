{
 "cells": [
  {
   "cell_type": "markdown",
   "metadata": {},
   "source": [
    "### Dictionary updating/adding item"
   ]
  },
  {
   "cell_type": "code",
   "execution_count": 43,
   "metadata": {},
   "outputs": [],
   "source": [
    "# [ ] Use the `inventory` dictionary in a program that asks the user for a \n",
    "#     UPC number, description, unit price, quantity in stock.\n",
    "# If the item already exists in the inventory, the information is updated, \n",
    "#     and your program should display a message that it is updating the entry.\n",
    "# If the item does NOT exists in the inventory, a new dictionary entry is created, \n",
    "#     and your program should display a message that it is creating a new entry.\n",
    "# Use try/except in the program.\n",
    "\n",
    "\n",
    "# test cases\n",
    "\n",
    "# For an existing item\n",
    "'''\n",
    "Enter UPC number: 839529\n",
    "Enter item description: TOMATOS 1LB\n",
    "Enter unit price: 1.55\n",
    "Enter item quantity: 21\n",
    "Existing item, updating: ['TOMATOS 1LB', 1.29, 25]\n",
    "\n",
    "  UPC   | Description       |  Unit Price  |  Quantity \n",
    "-------------------------------------------------------\n",
    "839529  | TOMATOS 1LB       |         1.55 |      21.00\n",
    "'''\n",
    "\n",
    "# For a new item\n",
    "'''\n",
    "Enter UPC number: 29430\n",
    "Enter item description: ORANGE 1LB\n",
    "Enter unit price: 0.99\n",
    "Enter item quantity: 40\n",
    "New item, creating ORANGE 1LB\n",
    "\n",
    "  UPC   | Description       |  Unit Price  |  Quantity \n",
    "-------------------------------------------------------\n",
    "29430   | ORANGE 1LB        |         0.99 |      40.00\n",
    "'''"
   ]
  },
  {
   "cell_type": "code",
   "execution_count": 73,
   "metadata": {},
   "outputs": [],
   "source": [
    "# get UPC from user, handling cases where the input is invalid with try/except\n",
    "#TODO: Your code goes here\n",
    "\n",
    "# display message, either \"updating\" or creating\" and then item is being updated display the `value` being updated\n",
    "#TODO: Your code goes here\n",
    "\n",
    "# update dictionary entry\n",
    "#TODO: Your code goes here\n",
    "\n",
    "# print header including \n",
    "# HINT: look at the testing samples shown in comments above for new item and for existing item\n",
    "#TODO: Your code goes here\n",
    "\n",
    "# print actual data from the dictionary (See Hint above)\n",
    "#TODO: Your code goes here\n",
    "\n",
    "\n",
    "inventory = {847502: ['APPLES 1LB', 1.99, 50], 847283: ['OLIVE OIL', 10.99, 100], 839529: ['TOMATOS 1LB', 1.29, 25], \n",
    "             483946: ['MILK 1/2G', 3.45, 35], 493402: ['FLOUR 5LB', 2.99, 40], 485034: ['BELL PEPPERS 1LB', 1.35, 28], \n",
    "             828391: ['WHITE TUNA', 1.69, 100], 449023: ['CHEESE 1/2LB', 4.99, 15]}"
   ]
  },
  {
   "cell_type": "code",
   "execution_count": 74,
   "metadata": {},
   "outputs": [
    {
     "name": "stdout",
     "output_type": "stream",
     "text": [
      "Enter a UPC number:  136074\n",
      "Enter a, item description: Jack Fruit 1LB\n",
      "Enter the unit price: 4.99\n",
      "Enter th quantity: 15\n",
      "Adding new inventory\n",
      "\n",
      "   UPC   |   Description        |   Unit Price   |   Quantity   \n",
      "---------------------------------------------------------------\n",
      "  847502 |      APPLES 1LB      |    1.990000    |       50\n",
      "  847283 |      OLIVE OIL       |   10.990000    |      100\n",
      "  839529 |     TOMATOS 1LB      |    1.290000    |       25\n",
      "  483946 |      MILK 1/2G       |    3.450000    |       35\n",
      "  493402 |      FLOUR 5LB       |    2.990000    |       40\n",
      "  485034 |   BELL PEPPERS 1LB   |    1.350000    |       28\n",
      "  828391 |      WHITE TUNA      |    1.690000    |      100\n",
      "  449023 |     CHEESE 1/2LB     |    4.990000    |       15\n",
      "  136074 |    Jack Fruit 1LB    |    4.990000    |       15\n"
     ]
    }
   ],
   "source": [
    "try:\n",
    "    upc_input = int(input('Enter a UPC number:  '))\n",
    "    description = input('Enter a, item description: ')\n",
    "    unit_price = float(input('Enter the unit price: '))\n",
    "    quantity = int(input('Enter th quantity: '))\n",
    "    \n",
    "    \n",
    "    if upc_input in inventory.keys():\n",
    "        print('Inventory Updating')\n",
    "        inventory[upc_input] = [description,unit_price,quantity]\n",
    "        \n",
    "    else:\n",
    "        print('Adding new inventory')\n",
    "        inventory[upc_input] = [description,unit_price,quantity]\n",
    "        \n",
    "except ValueError:\n",
    "    print('Error occurred!')\n",
    "except TypeError: \n",
    "    print('Error Occurred!')\n",
    "    \n",
    "    \n",
    "print()    \n",
    "print('   UPC   |   Description        |   Unit Price   |   Quantity   ')\n",
    "print('---------------------------------------------------------------')\n",
    "for key,value in inventory.items():\n",
    "    print('{:8d} | {:^20s} | {:^14f} | {:8d}'.format(key,value[0],value[1],value[2]))"
   ]
  },
  {
   "cell_type": "code",
   "execution_count": null,
   "metadata": {},
   "outputs": [],
   "source": []
  },
  {
   "cell_type": "code",
   "execution_count": null,
   "metadata": {},
   "outputs": [],
   "source": [
    "#Test 1\n",
    "#Enter UPC number: 839529\n",
    "#Enter item description: TOMATOS 1LB\n",
    "#Enter unit price: 1.55\n",
    "#Enter item quantity: 21"
   ]
  },
  {
   "cell_type": "code",
   "execution_count": 69,
   "metadata": {},
   "outputs": [],
   "source": [
    "#Test 2\n",
    "#Enter UPC number: 29430\n",
    "#Enter item description: ORANGE 1LB\n",
    "#Enter unit price: 0.99\n",
    "#Enter item quantity: 40"
   ]
  },
  {
   "cell_type": "code",
   "execution_count": null,
   "metadata": {},
   "outputs": [],
   "source": []
  }
 ],
 "metadata": {
  "kernelspec": {
   "display_name": "Python 3",
   "language": "python",
   "name": "python3"
  },
  "language_info": {
   "codemirror_mode": {
    "name": "ipython",
    "version": 3
   },
   "file_extension": ".py",
   "mimetype": "text/x-python",
   "name": "python",
   "nbconvert_exporter": "python",
   "pygments_lexer": "ipython3",
   "version": "3.6.5"
  }
 },
 "nbformat": 4,
 "nbformat_minor": 2
}
