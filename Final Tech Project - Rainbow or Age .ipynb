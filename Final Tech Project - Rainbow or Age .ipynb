{
 "cells": [
  {
   "cell_type": "markdown",
   "metadata": {},
   "source": [
    "### Rainbow Colors"
   ]
  },
  {
   "cell_type": "code",
   "execution_count": 2,
   "metadata": {},
   "outputs": [],
   "source": [
    "##Using if, elif, and else:\n",
    "#ask for input of a favorite rainbow color first letter: ROYGBIV\n",
    "\n",
    "#print the color matching the letter\n",
    "#R = Red\n",
    "#O = Orange\n",
    "#Y = Yellow\n",
    "#G = Green\n",
    "#B = Blue\n",
    "#I = Indigo\n",
    "#V = Violet\n",
    "#else print \"no match\"\n",
    "# [ ] complete rainbow colors"
   ]
  },
  {
   "cell_type": "code",
   "execution_count": 3,
   "metadata": {},
   "outputs": [
    {
     "name": "stdout",
     "output_type": "stream",
     "text": [
      "First letter of Rainbow Color: V\n",
      "Match\n"
     ]
    }
   ],
   "source": [
    "rainbow_color = input('First letter of Rainbow Color: ')\n",
    "\n",
    "if rainbow_color.lower() == 'R'.lower():\n",
    "    print ('Match')\n",
    "elif rainbow_color.lower() == 'O'.lower():\n",
    "    print ('Match')\n",
    "elif rainbow_color.lower() == 'Y'.lower():\n",
    "    print ('Match')\n",
    "elif rainbow_color.lower() == 'G'.lower():\n",
    "    print ('Match')\n",
    "elif rainbow_color.lower() == 'B'.lower():\n",
    "    print ('Match')\n",
    "elif rainbow_color.lower() == 'I'.lower():\n",
    "    print ('Match')\n",
    "elif rainbow_color.lower() == 'V'.lower():\n",
    "    print ('Match')\n",
    "else:\n",
    "    print ('No Match')"
   ]
  },
  {
   "cell_type": "code",
   "execution_count": null,
   "metadata": {},
   "outputs": [],
   "source": []
  },
  {
   "cell_type": "code",
   "execution_count": 4,
   "metadata": {},
   "outputs": [],
   "source": [
    "# [ ] make the code above into a function rainbow_color() that has a string parameter, \n",
    "# get input and call the function and return the matching color as a string or \"no match\" message.\n",
    "# Call the function and print the return string."
   ]
  },
  {
   "cell_type": "code",
   "execution_count": 6,
   "metadata": {},
   "outputs": [],
   "source": [
    "def rainbow_color(color):\n",
    "    color = input('First letter of Rainbow Color: ')\n",
    "    \n",
    "    if color.lower() == 'R'.lower():\n",
    "        return 'Red is rainbow color'\n",
    "    elif color.lower() == 'O'.lower():\n",
    "        return 'Orange is rainbow color'\n",
    "    elif color.lower() == 'Y'.lower():\n",
    "        return 'Yellow is rainbow color'\n",
    "    elif color.lower() == 'G'.lower():\n",
    "        return 'Green is rainbow color'\n",
    "    elif color.lower() == 'B'.lower():\n",
    "        return 'Blue is rainbow color'\n",
    "    elif color.lower() == 'I'.lower():\n",
    "        return 'Indigo is rainbow color'\n",
    "    elif color.lower() == 'V'.lower():\n",
    "        return 'Violet is rainbow color'\n",
    "    else:\n",
    "        return 'No Match'\n",
    "    \n",
    "    print(rainbow_color)"
   ]
  },
  {
   "cell_type": "code",
   "execution_count": null,
   "metadata": {},
   "outputs": [],
   "source": []
  },
  {
   "cell_type": "code",
   "execution_count": 7,
   "metadata": {},
   "outputs": [
    {
     "name": "stdout",
     "output_type": "stream",
     "text": [
      "First letter of Rainbow Color: x\n"
     ]
    },
    {
     "data": {
      "text/plain": [
       "'No Match'"
      ]
     },
     "execution_count": 7,
     "metadata": {},
     "output_type": "execute_result"
    }
   ],
   "source": [
    "rainbow_color(1)"
   ]
  },
  {
   "cell_type": "code",
   "execution_count": 8,
   "metadata": {},
   "outputs": [
    {
     "name": "stdout",
     "output_type": "stream",
     "text": [
      "First letter of Rainbow Color: Y\n"
     ]
    },
    {
     "data": {
      "text/plain": [
       "'Yellow is rainbow color'"
      ]
     },
     "execution_count": 8,
     "metadata": {},
     "output_type": "execute_result"
    }
   ],
   "source": [
    "rainbow_color(1)"
   ]
  },
  {
   "cell_type": "code",
   "execution_count": 9,
   "metadata": {},
   "outputs": [
    {
     "name": "stdout",
     "output_type": "stream",
     "text": [
      "First letter of Rainbow Color: b\n"
     ]
    },
    {
     "data": {
      "text/plain": [
       "'Blue is rainbow color'"
      ]
     },
     "execution_count": 9,
     "metadata": {},
     "output_type": "execute_result"
    }
   ],
   "source": [
    "rainbow_color(1)"
   ]
  },
  {
   "cell_type": "code",
   "execution_count": null,
   "metadata": {},
   "outputs": [],
   "source": []
  },
  {
   "cell_type": "markdown",
   "metadata": {},
   "source": [
    "### Age 20"
   ]
  },
  {
   "cell_type": "code",
   "execution_count": 10,
   "metadata": {},
   "outputs": [],
   "source": [
    "#Create function age_20() that adds or subtracts 20 from your age for a return value based on current age \n",
    "    ###(use if)### Age 20\n",
    "\n",
    "\n",
    "#call the funtion with user input and then use the return value in a sentence\n",
    "#example age_20(25) returns 5:\n",
    "    #\"5 years old, 20 years difference from now\"\n",
    "\n",
    "# [ ] complete age_20()"
   ]
  },
  {
   "cell_type": "code",
   "execution_count": 20,
   "metadata": {},
   "outputs": [],
   "source": [
    "def age_20(age):\n",
    "    age = input(\"What's the current age? : \")\n",
    "    \n",
    "    age_higher = int(age) > 20\n",
    "    \n",
    "    age_lower = int(age) < 20\n",
    "    \n",
    "    if age_higher:\n",
    "        return int(age) - 20\n",
    "    elif age_lower:\n",
    "        return int(age) + 20\n",
    "    \n",
    "    print(age)"
   ]
  },
  {
   "cell_type": "code",
   "execution_count": 21,
   "metadata": {},
   "outputs": [
    {
     "name": "stdout",
     "output_type": "stream",
     "text": [
      "What's the current age? : 15\n"
     ]
    },
    {
     "data": {
      "text/plain": [
       "35"
      ]
     },
     "execution_count": 21,
     "metadata": {},
     "output_type": "execute_result"
    }
   ],
   "source": [
    "age_20(2)"
   ]
  },
  {
   "cell_type": "code",
   "execution_count": 22,
   "metadata": {},
   "outputs": [
    {
     "name": "stdout",
     "output_type": "stream",
     "text": [
      "What's the current age? : 55\n"
     ]
    },
    {
     "data": {
      "text/plain": [
       "35"
      ]
     },
     "execution_count": 22,
     "metadata": {},
     "output_type": "execute_result"
    }
   ],
   "source": [
    "age_20(1)"
   ]
  },
  {
   "cell_type": "code",
   "execution_count": 23,
   "metadata": {},
   "outputs": [
    {
     "name": "stdout",
     "output_type": "stream",
     "text": [
      "What's the current age? : 10\n"
     ]
    },
    {
     "data": {
      "text/plain": [
       "30"
      ]
     },
     "execution_count": 23,
     "metadata": {},
     "output_type": "execute_result"
    }
   ],
   "source": [
    "age_20(1)"
   ]
  },
  {
   "cell_type": "code",
   "execution_count": 24,
   "metadata": {},
   "outputs": [
    {
     "name": "stdout",
     "output_type": "stream",
     "text": [
      "What's the current age? : 100\n"
     ]
    },
    {
     "data": {
      "text/plain": [
       "80"
      ]
     },
     "execution_count": 24,
     "metadata": {},
     "output_type": "execute_result"
    }
   ],
   "source": [
    "age_20(1)"
   ]
  },
  {
   "cell_type": "code",
   "execution_count": null,
   "metadata": {},
   "outputs": [],
   "source": []
  },
  {
   "cell_type": "code",
   "execution_count": null,
   "metadata": {},
   "outputs": [],
   "source": []
  },
  {
   "cell_type": "markdown",
   "metadata": {},
   "source": [
    "### Rainbow or Age"
   ]
  },
  {
   "cell_type": "code",
   "execution_count": 25,
   "metadata": {},
   "outputs": [],
   "source": [
    "#create a function rainbow_or_age that takes a string argument\n",
    "\n",
    "#if argument is a digit return the value of calling age_20() with the str value cast as int\n",
    "#if argument is an alphabetical character return the value of calling rainbow_color() with the str\n",
    "#if neither return FALSE\n",
    "# [ ]  create rainbow_or_age()"
   ]
  },
  {
   "cell_type": "code",
   "execution_count": 26,
   "metadata": {},
   "outputs": [],
   "source": [
    "def rainbow_or_age(arg1):\n",
    "    if arg1.isdigit():\n",
    "        return age_20(1)\n",
    "    elif arg1.isalpha():\n",
    "        return rainbow_color(1)\n",
    "    else:\n",
    "        return False"
   ]
  },
  {
   "cell_type": "code",
   "execution_count": 28,
   "metadata": {},
   "outputs": [
    {
     "name": "stdout",
     "output_type": "stream",
     "text": [
      "What's the current age? : 25\n"
     ]
    },
    {
     "data": {
      "text/plain": [
       "5"
      ]
     },
     "execution_count": 28,
     "metadata": {},
     "output_type": "execute_result"
    }
   ],
   "source": [
    "rainbow_or_age('1')"
   ]
  },
  {
   "cell_type": "code",
   "execution_count": 29,
   "metadata": {},
   "outputs": [
    {
     "name": "stdout",
     "output_type": "stream",
     "text": [
      "What's the current age? : 99\n"
     ]
    },
    {
     "data": {
      "text/plain": [
       "79"
      ]
     },
     "execution_count": 29,
     "metadata": {},
     "output_type": "execute_result"
    }
   ],
   "source": [
    "rainbow_or_age('2')"
   ]
  },
  {
   "cell_type": "code",
   "execution_count": 30,
   "metadata": {},
   "outputs": [
    {
     "name": "stdout",
     "output_type": "stream",
     "text": [
      "First letter of Rainbow Color: L\n"
     ]
    },
    {
     "data": {
      "text/plain": [
       "'No Match'"
      ]
     },
     "execution_count": 30,
     "metadata": {},
     "output_type": "execute_result"
    }
   ],
   "source": [
    "rainbow_or_age('l')"
   ]
  },
  {
   "cell_type": "code",
   "execution_count": 31,
   "metadata": {},
   "outputs": [
    {
     "name": "stdout",
     "output_type": "stream",
     "text": [
      "First letter of Rainbow Color: B\n"
     ]
    },
    {
     "data": {
      "text/plain": [
       "'Blue is rainbow color'"
      ]
     },
     "execution_count": 31,
     "metadata": {},
     "output_type": "execute_result"
    }
   ],
   "source": [
    "rainbow_or_age('B')"
   ]
  },
  {
   "cell_type": "code",
   "execution_count": null,
   "metadata": {},
   "outputs": [],
   "source": []
  }
 ],
 "metadata": {
  "kernelspec": {
   "display_name": "Python 3",
   "language": "python",
   "name": "python3"
  },
  "language_info": {
   "codemirror_mode": {
    "name": "ipython",
    "version": 3
   },
   "file_extension": ".py",
   "mimetype": "text/x-python",
   "name": "python",
   "nbconvert_exporter": "python",
   "pygments_lexer": "ipython3",
   "version": "3.6.4"
  }
 },
 "nbformat": 4,
 "nbformat_minor": 2
}
