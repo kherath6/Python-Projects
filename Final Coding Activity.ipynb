{
 "cells": [
  {
   "cell_type": "markdown",
   "metadata": {},
   "source": [
    "## Program Element Quiz"
   ]
  },
  {
   "cell_type": "markdown",
   "metadata": {},
   "source": [
    "In this program the user enters the name of any 5 of the first 20 Atomic \n",
    "    Elements and is given a grade and test report for items correct and incorrect."
   ]
  },
  {
   "cell_type": "markdown",
   "metadata": {},
   "source": [
    "### Sample input and output:\n",
    "\n",
    "- list any 5 of the first 20 elements in the Period table\n",
    "- Enter the name of an element: argon\n",
    "- Enter the name of an element: chlorine\n",
    "- Enter the name of an element: sodium\n",
    "- Enter the name of an element: argon\n",
    "- argon was already entered          <--no duplicates allowed\n",
    "- Enter the name of an element: helium\n",
    "- Enter the name of an element: gold\n",
    "\n",
    "- 80 % correct\n",
    "- Found: Argon Chlorine Sodium Helium \n",
    "- Not Found: Gold "
   ]
  },
  {
   "cell_type": "code",
   "execution_count": null,
   "metadata": {},
   "outputs": [],
   "source": []
  },
  {
   "cell_type": "code",
   "execution_count": null,
   "metadata": {},
   "outputs": [],
   "source": []
  },
  {
   "cell_type": "code",
   "execution_count": 177,
   "metadata": {},
   "outputs": [
    {
     "name": "stdout",
     "output_type": "stream",
     "text": [
      "  % Total    % Received % Xferd  Average Speed   Time    Time     Time  Current\n",
      "                                 Dload  Upload   Total   Spent    Left  Speed\n",
      "100   161  100   161    0     0    161      0  0:00:01 --:--:--  0:00:01   512\n"
     ]
    }
   ],
   "source": [
    "!curl https://raw.githubusercontent.com/MicrosoftLearning/intropython/master/elements1_20.txt -o elements1_20.txt"
   ]
  },
  {
   "cell_type": "code",
   "execution_count": null,
   "metadata": {},
   "outputs": [],
   "source": []
  },
  {
   "cell_type": "code",
   "execution_count": null,
   "metadata": {},
   "outputs": [],
   "source": []
  },
  {
   "cell_type": "code",
   "execution_count": 184,
   "metadata": {},
   "outputs": [
    {
     "name": "stdout",
     "output_type": "stream",
     "text": [
      "Enter an element:Hydrogen\n",
      "['Hydrogen']\n",
      "Enter an element:Helum\n",
      "['Hydrogen', 'Helum']\n",
      "Enter an element:Carbon\n",
      "['Hydrogen', 'Helum', 'Carbon']\n",
      "Enter an element:Neon\n",
      "['Hydrogen', 'Helum', 'Carbon', 'Neon']\n",
      "Enter an element:Sodium\n",
      "['Hydrogen', 'Helum', 'Carbon', 'Neon', 'Sodium']\n",
      "Enter an element:Sulfer\n",
      "['Hydrogen', 'Helum', 'Carbon', 'Neon', 'Sodium']\n",
      "\n",
      "Correct Responses are: ['Hydrogen', 'Carbon', 'Neon', 'Sodium'] \n",
      "\n",
      "Incorrect Responses are: ['Helum']\n",
      "80%\n"
     ]
    }
   ],
   "source": [
    "def get_names():\n",
    "    \n",
    "    element_name = input('Enter an element:')\n",
    "    \n",
    "    elements = []\n",
    "\n",
    "    elements_len = len(elements)\n",
    "    \n",
    "    i = 5\n",
    "\n",
    "    \n",
    "    while True:\n",
    "        \n",
    "        if element_name.isalpha():\n",
    "            \n",
    "            if element_name.lower() in str(elements).lower():\n",
    "                print(element_name,'Is in the list')\n",
    "            \n",
    "                element_name = input('Enter an element:')\n",
    "                \n",
    "            elif int(len(elements)) == i:\n",
    "                print(elements)\n",
    "                break\n",
    "                \n",
    "                \n",
    "            else:\n",
    "                elements.append(element_name)\n",
    "                print(elements)\n",
    "            \n",
    "                element_name = input('Enter an element:')\n",
    "                \n",
    "        else:\n",
    "            print('Enter element names only!')\n",
    "            \n",
    "            element_name = input('Enter an element:')\n",
    "    \n",
    "    return elements\n",
    "\n",
    "\n",
    "\n",
    "\n",
    "elements1_20 = open('elements1_20.txt','r')\n",
    "\n",
    "elements_list = elements1_20.readlines()\n",
    "\n",
    "\n",
    "count = 0\n",
    "\n",
    "for items in elements_list:\n",
    "    elements_list[count] = items[:-1]\n",
    "    count +=1\n",
    "    \n",
    "    \n",
    "\n",
    "\n",
    "correct = []\n",
    "incorrect = []\n",
    "\n",
    "for items in get_names():\n",
    "    if items in elements_list:\n",
    "        correct.append(items)\n",
    "    else:\n",
    "        incorrect.append(items)\n",
    "        \n",
    "print('\\nCorrect Responses are:',correct,'\\n')\n",
    "\n",
    "print('Incorrect Responses are:',incorrect)\n",
    "\n",
    "score = int(len((correct))) * 20\n",
    "\n",
    "print(str(score)+'%')"
   ]
  },
  {
   "cell_type": "code",
   "execution_count": null,
   "metadata": {},
   "outputs": [],
   "source": []
  }
 ],
 "metadata": {
  "kernelspec": {
   "display_name": "Python 3",
   "language": "python",
   "name": "python3"
  },
  "language_info": {
   "codemirror_mode": {
    "name": "ipython",
    "version": 3
   },
   "file_extension": ".py",
   "mimetype": "text/x-python",
   "name": "python",
   "nbconvert_exporter": "python",
   "pygments_lexer": "ipython3",
   "version": "3.6.4"
  }
 },
 "nbformat": 4,
 "nbformat_minor": 2
}
