{
 "cells": [
  {
   "cell_type": "code",
   "execution_count": 31,
   "metadata": {},
   "outputs": [
    {
     "name": "stdout",
     "output_type": "stream",
     "text": [
      "  % Total    % Received % Xferd  Average Speed   Time    Time     Time  Current\n",
      "                                 Dload  Upload   Total   Spent    Left  Speed\n",
      "100   222  100   222    0     0     44      0  0:00:05  0:00:05 --:--:--    51\n"
     ]
    }
   ],
   "source": [
    "!curl  https://raw.githubusercontent.com/MicrosoftLearning/intropython/master/world_temp_mean.csv -o mean_temp.txt"
   ]
  },
  {
   "cell_type": "code",
   "execution_count": 32,
   "metadata": {},
   "outputs": [],
   "source": [
    "mean_temp = open('mean_temp.txt','a+')"
   ]
  },
  {
   "cell_type": "code",
   "execution_count": 33,
   "metadata": {},
   "outputs": [
    {
     "data": {
      "text/plain": [
       "32"
      ]
     },
     "execution_count": 33,
     "metadata": {},
     "output_type": "execute_result"
    }
   ],
   "source": [
    "mean_temp.write('Rio de Janeiro,Brazil,30.0,18.0\\n')"
   ]
  },
  {
   "cell_type": "code",
   "execution_count": 50,
   "metadata": {},
   "outputs": [],
   "source": [
    "mean_temp.seek(0)\n",
    "temp_lines = mean_temp.read()"
   ]
  },
  {
   "cell_type": "code",
   "execution_count": 51,
   "metadata": {},
   "outputs": [
    {
     "name": "stdout",
     "output_type": "stream",
     "text": [
      "city,country,month ave: highest high,month ave: lowest low\n",
      "Beijing,China,30.9,-8.4\n",
      "Cairo,Egypt,34.7,1.2\n",
      "London,UK,23.5,2.1\n",
      "Nairobi,Kenya,26.3,10.5\n",
      "New York City,USA,28.9,-2.8\n",
      "Sydney,Australia,26.5,8.7\n",
      "Tokyo,Japan,30.8,0.9\n",
      "Rio de Janeiro,Brazil,30.0,18.0\n",
      "\n"
     ]
    }
   ],
   "source": [
    "print(temp_lines)"
   ]
  },
  {
   "cell_type": "code",
   "execution_count": 58,
   "metadata": {},
   "outputs": [
    {
     "name": "stdout",
     "output_type": "stream",
     "text": [
      "city,country,month ave: highest high,month ave: lowest low\n"
     ]
    }
   ],
   "source": [
    "mean_temp.seek(0)\n",
    "headings = mean_temp.readline().strip()\n",
    "print(headings)"
   ]
  },
  {
   "cell_type": "code",
   "execution_count": 59,
   "metadata": {},
   "outputs": [
    {
     "data": {
      "text/plain": [
       "['city', 'country', 'month ave: highest high', 'month ave: lowest low']"
      ]
     },
     "execution_count": 59,
     "metadata": {},
     "output_type": "execute_result"
    }
   ],
   "source": [
    "headings.split(',')"
   ]
  },
  {
   "cell_type": "code",
   "execution_count": 60,
   "metadata": {},
   "outputs": [],
   "source": [
    "mean_temp.seek(0,1)\n",
    "\n",
    "city_temp = mean_temp"
   ]
  },
  {
   "cell_type": "code",
   "execution_count": 61,
   "metadata": {},
   "outputs": [
    {
     "name": "stdout",
     "output_type": "stream",
     "text": [
      "City of: Beijing,China,30.9,-8.4 Celsius\n",
      "City of: Cairo,Egypt,34.7,1.2 Celsius\n",
      "City of: London,UK,23.5,2.1 Celsius\n",
      "City of: Nairobi,Kenya,26.3,10.5 Celsius\n",
      "City of: New York City,USA,28.9,-2.8 Celsius\n",
      "City of: Sydney,Australia,26.5,8.7 Celsius\n",
      "City of: Tokyo,Japan,30.8,0.9 Celsius\n",
      "City of: Rio de Janeiro,Brazil,30.0,18.0 Celsius\n"
     ]
    }
   ],
   "source": [
    "city_line = city_temp.readline().strip()\n",
    "\n",
    "while city_line:\n",
    "    print('City of:',city_line,'Celsius')\n",
    "    city_line = city_temp.readline().strip()    "
   ]
  },
  {
   "cell_type": "code",
   "execution_count": 63,
   "metadata": {},
   "outputs": [],
   "source": [
    "mean_temp.close()"
   ]
  },
  {
   "cell_type": "code",
   "execution_count": null,
   "metadata": {},
   "outputs": [],
   "source": []
  },
  {
   "cell_type": "code",
   "execution_count": null,
   "metadata": {},
   "outputs": [],
   "source": []
  }
 ],
 "metadata": {
  "kernelspec": {
   "display_name": "Python 3",
   "language": "python",
   "name": "python3"
  },
  "language_info": {
   "codemirror_mode": {
    "name": "ipython",
    "version": 3
   },
   "file_extension": ".py",
   "mimetype": "text/x-python",
   "name": "python",
   "nbconvert_exporter": "python",
   "pygments_lexer": "ipython3",
   "version": "3.6.4"
  }
 },
 "nbformat": 4,
 "nbformat_minor": 2
}
