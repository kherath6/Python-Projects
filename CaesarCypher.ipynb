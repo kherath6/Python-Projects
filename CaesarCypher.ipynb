{
 "cells": [
  {
   "cell_type": "code",
   "execution_count": 1,
   "metadata": {},
   "outputs": [
    {
     "name": "stdin",
     "output_type": "stream",
     "text": [
      "Please enter the key:  3\n",
      "Enter Text?  This is Caesar Cypher. \n"
     ]
    },
    {
     "name": "stdout",
     "output_type": "stream",
     "text": [
      "cypher:   Wklv lv Fdhvdu Fbskhu. \n"
     ]
    }
   ],
   "source": [
    "\"\"\"\n",
    "The program accepts a key(int) n and converts(Shifts) any given text by n amount. \n",
    "\"\"\"\n",
    "\n",
    "# Step 01: Get the key\n",
    "key = int(input(\"Please enter the key: \"))\n",
    "\n",
    "# Step 02: Encypher the text\n",
    "\n",
    "# Get the text to Cypher \n",
    "text = input(\"Enter Text? \")\n",
    "\n",
    "# Define a cypher text variable\n",
    "cypher = \" \"\n",
    "\n",
    "# Convert the text into ASCII and enter them into a temp valriable \n",
    "\n",
    "for char in text: \n",
    "  # Chek if the character is a letter\n",
    "    if char.isalpha() == True:\n",
    "    # First convert the lower case letters\n",
    "        if char.islower() == True:\n",
    "            temp = ord(char) - 97\n",
    "            temp += key\n",
    "            # Add the % operator to make sure that the character stays wihin bounds. \n",
    "            temp = temp % 26 \n",
    "            # Add character to cypher text string \n",
    "            cypher += chr(temp + 97)\n",
    "  \n",
    "        else:\n",
    "            # now check for uppercase letters\n",
    "            temp = ord(char) - 65\n",
    "            temp += key\n",
    "            # Add the % operator to make sure that the character stays wihin bounds. \n",
    "            temp = temp % 26\n",
    "            # Add the character to Cypher text string \n",
    "            cypher += chr(temp + 65) \n",
    "    else: \n",
    "        cypher += char\n",
    "\n",
    "print(\"cypher: \",cypher)"
   ]
  },
  {
   "cell_type": "code",
   "execution_count": null,
   "metadata": {},
   "outputs": [],
   "source": []
  }
 ],
 "metadata": {
  "kernelspec": {
   "display_name": "Python 3",
   "language": "python",
   "name": "python3"
  },
  "language_info": {
   "codemirror_mode": {
    "name": "ipython",
    "version": 3
   },
   "file_extension": ".py",
   "mimetype": "text/x-python",
   "name": "python",
   "nbconvert_exporter": "python",
   "pygments_lexer": "ipython3",
   "version": "3.7.3"
  }
 },
 "nbformat": 4,
 "nbformat_minor": 4
}
