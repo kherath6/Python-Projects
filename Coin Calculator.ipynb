{
 "cells": [
  {
   "cell_type": "code",
   "execution_count": 1,
   "metadata": {},
   "outputs": [],
   "source": [
    "# [ ] Complete the function `quarters_count` so it calculates and prints the number of quarters in `input_cents`\n",
    "\n",
    "    # The function input `input_cents` should be in cents \n",
    "    # The function should print the number of calculated quarters in `input_cents`\n",
    "    # The function should return the number of remaining cents `remaining_cents` (which is less than 25, why?)\n",
    "    # HINT: You might want to use % and // operators"
   ]
  },
  {
   "cell_type": "markdown",
   "metadata": {},
   "source": [
    "### Qaurters"
   ]
  },
  {
   "cell_type": "code",
   "execution_count": 6,
   "metadata": {},
   "outputs": [],
   "source": [
    "import math \n",
    "\n",
    "def quarters_count(input_cents):\n",
    "    \n",
    "    input1 = input('Enter a dollar amount:')\n",
    "    \n",
    "    input_cents = float(input1) * 100\n",
    "    \n",
    "    quarter_count = input_cents // 25\n",
    "    \n",
    "    remaining_cents = input_cents % 25\n",
    "    \n",
    "    print(quarter_count,'Quarters:',remaining_cents,'cents remaining')  "
   ]
  },
  {
   "cell_type": "code",
   "execution_count": 7,
   "metadata": {},
   "outputs": [
    {
     "name": "stdout",
     "output_type": "stream",
     "text": [
      "Enter a dollar amount:2\n",
      "8.0 Quarters: 0.0 cents remaining\n"
     ]
    }
   ],
   "source": [
    "quarters_count(2)"
   ]
  },
  {
   "cell_type": "code",
   "execution_count": 8,
   "metadata": {},
   "outputs": [
    {
     "name": "stdout",
     "output_type": "stream",
     "text": [
      "Enter a dollar amount:5.30\n",
      "21.0 Quarters: 5.0 cents remaining\n"
     ]
    }
   ],
   "source": [
    "quarters_count(5.30)"
   ]
  },
  {
   "cell_type": "code",
   "execution_count": 9,
   "metadata": {},
   "outputs": [
    {
     "name": "stdout",
     "output_type": "stream",
     "text": [
      "Enter a dollar amount:9.49\n",
      "37.0 Quarters: 24.0 cents remaining\n"
     ]
    }
   ],
   "source": [
    "quarters_count(9.49)"
   ]
  },
  {
   "cell_type": "code",
   "execution_count": null,
   "metadata": {},
   "outputs": [],
   "source": []
  },
  {
   "cell_type": "markdown",
   "metadata": {},
   "source": [
    "### Dimes"
   ]
  },
  {
   "cell_type": "code",
   "execution_count": 12,
   "metadata": {},
   "outputs": [],
   "source": [
    "import math \n",
    "\n",
    "def dimes_count(input_cents):\n",
    "    \n",
    "    input1 = input('Enter a dollar amount:')\n",
    "    \n",
    "    input_cents = float(input1) * 100\n",
    "    \n",
    "    dimes_count = input_cents // 10\n",
    "    \n",
    "    remaining_cents = input_cents % 10\n",
    "    \n",
    "    print(dimes_count,'Dimes',remaining_cents,'cents remain.')"
   ]
  },
  {
   "cell_type": "code",
   "execution_count": 13,
   "metadata": {},
   "outputs": [
    {
     "name": "stdout",
     "output_type": "stream",
     "text": [
      "Enter a dollar amount:2\n",
      "20.0 Dimes 0.0 cents remain.\n"
     ]
    }
   ],
   "source": [
    "dimes_count(2)"
   ]
  },
  {
   "cell_type": "code",
   "execution_count": 14,
   "metadata": {},
   "outputs": [
    {
     "name": "stdout",
     "output_type": "stream",
     "text": [
      "Enter a dollar amount:5.43\n",
      "54.0 Dimes 3.0 cents remain.\n"
     ]
    }
   ],
   "source": [
    "dimes_count(5.43)"
   ]
  },
  {
   "cell_type": "code",
   "execution_count": 15,
   "metadata": {},
   "outputs": [
    {
     "name": "stdout",
     "output_type": "stream",
     "text": [
      "Enter a dollar amount:9.49\n",
      "94.0 Dimes 9.0 cents remain.\n"
     ]
    }
   ],
   "source": [
    "dimes_count(9.49)"
   ]
  },
  {
   "cell_type": "code",
   "execution_count": null,
   "metadata": {},
   "outputs": [],
   "source": []
  },
  {
   "cell_type": "markdown",
   "metadata": {},
   "source": [
    "### Nickels"
   ]
  },
  {
   "cell_type": "code",
   "execution_count": 18,
   "metadata": {},
   "outputs": [],
   "source": [
    "import math \n",
    "\n",
    "def nickels_count(input_cents):\n",
    "    \n",
    "    input1 = input('Enter a dollar amount:')\n",
    "    \n",
    "    input_cents = float(input1) * 100\n",
    "    \n",
    "    nickels_count = input_cents // 5\n",
    "    \n",
    "    nickels_remaining = input_cents % 5\n",
    "    \n",
    "    print(nickels_count,'Nickels',nickels_remaining,'cents remain.')"
   ]
  },
  {
   "cell_type": "code",
   "execution_count": 19,
   "metadata": {},
   "outputs": [
    {
     "name": "stdout",
     "output_type": "stream",
     "text": [
      "Enter a dollar amount:2\n",
      "40.0 Nickels 0.0 cents remain.\n"
     ]
    }
   ],
   "source": [
    "nickels_count(2)"
   ]
  },
  {
   "cell_type": "code",
   "execution_count": 20,
   "metadata": {},
   "outputs": [
    {
     "name": "stdout",
     "output_type": "stream",
     "text": [
      "Enter a dollar amount:5.43\n",
      "108.0 Nickels 3.0 cents remain.\n"
     ]
    }
   ],
   "source": [
    "nickels_count(5.43)"
   ]
  },
  {
   "cell_type": "code",
   "execution_count": 21,
   "metadata": {},
   "outputs": [
    {
     "name": "stdout",
     "output_type": "stream",
     "text": [
      "Enter a dollar amount:9.49\n",
      "189.0 Nickels 4.0 cents remain.\n"
     ]
    }
   ],
   "source": [
    "nickels_count(9.49)"
   ]
  },
  {
   "cell_type": "code",
   "execution_count": null,
   "metadata": {},
   "outputs": [],
   "source": []
  },
  {
   "cell_type": "code",
   "execution_count": null,
   "metadata": {},
   "outputs": [],
   "source": []
  },
  {
   "cell_type": "markdown",
   "metadata": {},
   "source": [
    "## Change Calculator \n",
    "\n",
    "#### Complete the function `coins_due` to calculate and print the change due to a customer in coins"
   ]
  },
  {
   "cell_type": "code",
   "execution_count": 22,
   "metadata": {},
   "outputs": [],
   "source": [
    "# The function `coins_due` has 2 inputs:\n",
    "#      - `amount_paid`: Amount paid by a customer (in cents)\n",
    "#      - `item_price`: Purchase price of an item\n",
    "\n",
    "\n",
    "# The function should print:\n",
    "#      - The number of quarters due\n",
    "#      - The number of dimes due\n",
    "#      - The number of nickels due\n",
    "#      - The number of cents due\n",
    "\n",
    "\n",
    "\n",
    "# The function does not need to return anything\n",
    "#\n",
    "# HINT: Use the functions you developed before `quarters_count`, `dimes_count`, `nickels_count`"
   ]
  },
  {
   "cell_type": "code",
   "execution_count": 25,
   "metadata": {},
   "outputs": [],
   "source": [
    "import math\n",
    "\n",
    "def coins_due(amount_paid,purchase_price):\n",
    "    \n",
    "    change = float(amount_paid) - float(purchase_price)\n",
    "    print('Your change is:',change)\n",
    "    \n",
    "    quarters_count(change)\n",
    "    dimes_count(change)\n",
    "    nickels_count(change)"
   ]
  },
  {
   "cell_type": "code",
   "execution_count": null,
   "metadata": {},
   "outputs": [],
   "source": []
  },
  {
   "cell_type": "code",
   "execution_count": null,
   "metadata": {},
   "outputs": [],
   "source": []
  },
  {
   "cell_type": "code",
   "execution_count": 26,
   "metadata": {},
   "outputs": [],
   "source": [
    "# Test case:\n",
    "# amount paid = $10, item price = $5.37\n",
    "# Output should be: \n",
    "#    Change due:\n",
    "#    18.0 quarter\\s\n",
    "#    1.0 dime\\s\n",
    "#    0.0 nickel\\s\n",
    "#    3.0 cent\\s"
   ]
  },
  {
   "cell_type": "code",
   "execution_count": 27,
   "metadata": {},
   "outputs": [
    {
     "name": "stdout",
     "output_type": "stream",
     "text": [
      "Your change is: 4.63\n",
      "Enter a dollar amount:4.63\n",
      "18.0 Quarters: 13.0 cents remaining\n",
      "Enter a dollar amount:0.13\n",
      "1.0 Dimes 3.0 cents remain.\n",
      "Enter a dollar amount:0.03\n",
      "0.0 Nickels 3.0 cents remain.\n"
     ]
    }
   ],
   "source": [
    "coins_due(10,5.37)"
   ]
  },
  {
   "cell_type": "code",
   "execution_count": null,
   "metadata": {},
   "outputs": [],
   "source": []
  }
 ],
 "metadata": {
  "kernelspec": {
   "display_name": "Python 3",
   "language": "python",
   "name": "python3"
  },
  "language_info": {
   "codemirror_mode": {
    "name": "ipython",
    "version": 3
   },
   "file_extension": ".py",
   "mimetype": "text/x-python",
   "name": "python",
   "nbconvert_exporter": "python",
   "pygments_lexer": "ipython3",
   "version": "3.6.5"
  }
 },
 "nbformat": 4,
 "nbformat_minor": 2
}
